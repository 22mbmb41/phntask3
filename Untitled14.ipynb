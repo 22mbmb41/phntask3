{
 "cells": [
  {
   "cell_type": "code",
   "execution_count": null,
   "id": "05dbb46e-cc99-4c2f-a025-9c52ae60f7af",
   "metadata": {},
   "outputs": [],
   "source": [
    "from openpyxl import Workbook\n",
    "\n",
    "# Create a new workbook\n",
    "workbook = Workbook()\n",
    "\n",
    "# Select the active sheet\n",
    "sheet = workbook.active\n",
    "\n",
    "# Set some values in the cells\n",
    "sheet[\"A1\"] = \"Fruit\"\n",
    "sheet[\"B1\"] = \"Total Quantity\"\n",
    "sheet[\"A2\"]=\"Apple\"\n",
    "sheet[\"B2\"]=25\n",
    "sheet[\"A3\"]=\"Banana\"      \n",
    "sheet[\"A4\"]=\"Orange\"\n",
    "sheet[\"A5\"]=\"Apple\"\n",
    "sheet[\"A6\"]=\"Banana\"\n",
    "sheet[\"A7\"]=\"Apple\"\n",
    "sheet[\"A8\"]=\"Orange\"\n",
    "sheet[\"B3\"]=15\n",
    "sheet[\"B4\"]=20\n",
    "sheet[\"B5\"]=10\n",
    "sheet[\"B6\"]=5\n",
    "sheet[\"B7\"]=15\n",
    "sheet[\"B8\"]=10\n",
    "\n",
    "# Save the workbook\n",
    "workbook.save(\"new_spreadsheet.xlsx\")"
   ]
  }
 ],
 "metadata": {
  "kernelspec": {
   "display_name": "Python 3 (ipykernel)",
   "language": "python",
   "name": "python3"
  },
  "language_info": {
   "codemirror_mode": {
    "name": "ipython",
    "version": 3
   },
   "file_extension": ".py",
   "mimetype": "text/x-python",
   "name": "python",
   "nbconvert_exporter": "python",
   "pygments_lexer": "ipython3",
   "version": "3.10.8"
  }
 },
 "nbformat": 4,
 "nbformat_minor": 5
}
